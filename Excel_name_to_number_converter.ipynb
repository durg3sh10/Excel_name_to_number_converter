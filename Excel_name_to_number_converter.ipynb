{
  "nbformat": 4,
  "nbformat_minor": 0,
  "metadata": {
    "colab": {
      "name": "Excel name to number converter.ipynb",
      "provenance": [],
      "collapsed_sections": [],
      "authorship_tag": "ABX9TyOPszRnwLZcp18tBPxMGghT",
      "include_colab_link": true
    },
    "kernelspec": {
      "name": "python3",
      "display_name": "Python 3"
    }
  },
  "cells": [
    {
      "cell_type": "markdown",
      "metadata": {
        "id": "view-in-github",
        "colab_type": "text"
      },
      "source": [
        "<a href=\"https://colab.research.google.com/github/durg3sh10/Excel_name_to_number_converter/blob/main/Excel_name_to_number_converter.ipynb\" target=\"_parent\"><img src=\"https://colab.research.google.com/assets/colab-badge.svg\" alt=\"Open In Colab\"/></a>"
      ]
    },
    {
      "cell_type": "code",
      "metadata": {
        "colab": {
          "base_uri": "https://localhost:8080/"
        },
        "id": "1s6gtuM6Frck",
        "outputId": "b90a575d-e3f6-4602-d1c1-dc74107bc4ba"
      },
      "source": [
        "# Finding Excel column number from a given column name\r\n",
        "'''MS Excel columns have a pattern like A, B, C, …, Z, AA, AB, AC, …., AAA, AAB … etc. \r\n",
        "In other words, column 1 is named as “A”, column 2 as “B”, column 27 as “AA” and so on.\r\n",
        "Given a column number, find its corresponding Excel column name.'''\r\n",
        "\r\n",
        "\r\n",
        "column_name1 = str(input(\"Enter the column name: \"))\r\n",
        "column_name = column_name1.upper()\r\n",
        "\r\n",
        "list_column_no = []\r\n",
        "for j,i in enumerate(column_name):\r\n",
        "  list_column_no.append(i)\r\n",
        "\r\n",
        "\r\n",
        "alpha = []\r\n",
        "for i in range(65,91):\r\n",
        "  alpha.append(chr(i))\r\n",
        "num=[]\r\n",
        "for i in range(1,27):\r\n",
        "  num.append(i)\r\n",
        "\r\n",
        "alphabet_number_dict = dict(zip(alpha,num))\r\n",
        "length = len(column_name)\r\n",
        "\r\n",
        "column_number=0\r\n",
        "for i in range(0,length):\r\n",
        "  column_number += alphabet_number_dict.get(list_column_no[i]) * (26**(length-1-i))\r\n",
        "  \r\n",
        "print(f\"The Excel column name {column_name} has column number {column_number}\")"
      ],
      "execution_count": 17,
      "outputs": [
        {
          "output_type": "stream",
          "text": [
            "Enter the column name: aa\n",
            "The Excel column name AA has column number 27\n"
          ],
          "name": "stdout"
        }
      ]
    }
  ]
}