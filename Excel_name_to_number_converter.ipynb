{
  "nbformat": 4,
  "nbformat_minor": 0,
  "metadata": {
    "colab": {
      "name": "Excel name to number converter.ipynb",
      "provenance": [],
      "collapsed_sections": [],
      "authorship_tag": "ABX9TyP2voeSVtErE7Pri4LLYr2K",
      "include_colab_link": true
    },
    "kernelspec": {
      "name": "python3",
      "display_name": "Python 3"
    }
  },
  "cells": [
    {
      "cell_type": "markdown",
      "metadata": {
        "id": "view-in-github",
        "colab_type": "text"
      },
      "source": [
        "<a href=\"https://colab.research.google.com/github/durg3sh10/Excel_name_to_number_converter/blob/main/Excel_name_to_number_converter.ipynb\" target=\"_parent\"><img src=\"https://colab.research.google.com/assets/colab-badge.svg\" alt=\"Open In Colab\"/></a>"
      ]
    },
    {
      "cell_type": "code",
      "metadata": {
        "colab": {
          "base_uri": "https://localhost:8080/"
        },
        "id": "1s6gtuM6Frck",
        "outputId": "1b81b4bc-d5e2-45a3-930d-de7f52281a15"
      },
      "source": [
        "# Finding Excel column number from a given column name\r\n",
        "'''Given a column number, find its corresponding Excel column name.'''\r\n",
        "\r\n",
        "\r\n",
        "column_name1 = str(input(\"Enter the column name: \"))\r\n",
        "column_name = column_name1.upper()\r\n",
        "\r\n",
        "list_column_no = []\r\n",
        "for j,i in enumerate(column_name):\r\n",
        "  list_column_no.append(i)\r\n",
        "\r\n",
        "\r\n",
        "alpha = []\r\n",
        "for i in range(65,91):\r\n",
        "  alpha.append(chr(i))\r\n",
        "num=[]\r\n",
        "for i in range(1,27):\r\n",
        "  num.append(i)\r\n",
        "\r\n",
        "alphabet_number_dict = dict(zip(alpha,num))\r\n",
        "length = len(column_name)\r\n",
        "\r\n",
        "column_number=0\r\n",
        "for i in range(0,length):\r\n",
        "  column_number += alphabet_number_dict.get(list_column_no[i]) * (26**(length-1-i))\r\n",
        "  \r\n",
        "print(f\"The Excel column name {column_name} has a column number - {column_number}\")"
      ],
      "execution_count": 3,
      "outputs": [
        {
          "output_type": "stream",
          "text": [
            "Enter the column name: aaa\n",
            "The Excel column name AAA has a column number - 703\n"
          ],
          "name": "stdout"
        }
      ]
    }
  ]
}